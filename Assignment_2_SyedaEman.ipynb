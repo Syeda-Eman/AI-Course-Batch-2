{
  "nbformat": 4,
  "nbformat_minor": 0,
  "metadata": {
    "colab": {
      "provenance": []
    },
    "kernelspec": {
      "name": "python3",
      "display_name": "Python 3"
    },
    "language_info": {
      "name": "python"
    }
  },
  "cells": [
    {
      "cell_type": "markdown",
      "source": [
        "## **1. Write a program that takes a string as input and counts the number of vowels and consonants in the string.**"
      ],
      "metadata": {
        "id": "uA_zRzegv9if"
      }
    },
    {
      "cell_type": "code",
      "execution_count": null,
      "metadata": {
        "id": "RjdD5FpFoVfE",
        "colab": {
          "base_uri": "https://localhost:8080/"
        },
        "outputId": "c06fc1a2-9615-40df-b20c-2048d1cc695f"
      },
      "outputs": [
        {
          "output_type": "stream",
          "name": "stdout",
          "text": [
            "Enter a string: Hello, World!\n",
            "Number of vowels: 3\n",
            "Number of consonants: 7\n"
          ]
        }
      ],
      "source": [
        "string = input(\"Enter a string: \")\n",
        "vowels = 0\n",
        "consonants = 0\n",
        "\n",
        "# Convert the string to lowercase to simplify the counting\n",
        "string = string.lower()\n",
        "\n",
        "# Loop through each character in the string\n",
        "for char in string:\n",
        "    # Check if the character is a vowel\n",
        "    if char in \"aeiou\":\n",
        "        vowels += 1\n",
        "    # Check if the character is a consonant\n",
        "    elif char.isalpha():\n",
        "        consonants += 1\n",
        "\n",
        "# Print the results\n",
        "print(\"Number of vowels:\", vowels)\n",
        "print(\"Number of consonants:\", consonants)"
      ]
    },
    {
      "cell_type": "markdown",
      "source": [
        "## **2. Write a Python program that accepts a filename from the user and prints the extension of the file.**"
      ],
      "metadata": {
        "id": "xU3nwVDIwLlS"
      }
    },
    {
      "cell_type": "code",
      "source": [
        "filename = input(\"Enter a filename: \")\n",
        "\n",
        "# Split the filename into its name and extension\n",
        "name, extension = filename.split(\".\")\n",
        "\n",
        "# Print the extension\n",
        "print(\"The extension of the file is:\", extension)"
      ],
      "metadata": {
        "colab": {
          "base_uri": "https://localhost:8080/"
        },
        "id": "ScVtc2Sf-xgG",
        "outputId": "94f5838f-9e17-499f-c112-f965d70311f8"
      },
      "execution_count": null,
      "outputs": [
        {
          "output_type": "stream",
          "name": "stdout",
          "text": [
            "Enter a filename: document.docx\n",
            "The extension of the file is: docx\n"
          ]
        }
      ]
    },
    {
      "cell_type": "markdown",
      "source": [
        "## **3. Write a Python program to check if value 200 exists in the following dictionary.**"
      ],
      "metadata": {
        "id": "L5aQehjcwbOH"
      }
    },
    {
      "cell_type": "code",
      "source": [
        "# Define the dictionary\n",
        "Sample_dict = {'a': 100, 'b': 200, 'c': 300}\n",
        "\n",
        "# Check if the value 200 exists in the dictionary\n",
        "if 200 in Sample_dict.values():\n",
        "    print(\"The value 200 exists in the dictionary\")\n",
        "else:\n",
        "    print(\"The value 200 does not exist in the dictionary\")"
      ],
      "metadata": {
        "colab": {
          "base_uri": "https://localhost:8080/"
        },
        "id": "X5LaUezA_TUR",
        "outputId": "b198e3f2-b75d-4319-8326-53151c8787dc"
      },
      "execution_count": null,
      "outputs": [
        {
          "output_type": "stream",
          "name": "stdout",
          "text": [
            "The value 200 exists in the dictionary\n"
          ]
        }
      ]
    },
    {
      "cell_type": "markdown",
      "source": [
        "## **4. The given tuple is a nested tuple. Write a Python program to print the value 20.**"
      ],
      "metadata": {
        "id": "bZS2beDBwjE_"
      }
    },
    {
      "cell_type": "code",
      "source": [
        "# Define the nested tuple\n",
        "tuple1 = (\"Orange\", [10, 20, 30], (5, 15, 25))\n",
        "\n",
        "# Access the value 20 from the nested tuple\n",
        "value = tuple1[1][1]\n",
        "\n",
        "# Print the value 20\n",
        "print(value)"
      ],
      "metadata": {
        "colab": {
          "base_uri": "https://localhost:8080/"
        },
        "id": "bJPpNEJxAJQL",
        "outputId": "eabe5d2c-47d4-41fd-8faf-d51a43aac8af"
      },
      "execution_count": null,
      "outputs": [
        {
          "output_type": "stream",
          "name": "stdout",
          "text": [
            "20\n"
          ]
        }
      ]
    },
    {
      "cell_type": "markdown",
      "source": [
        "## **5. Write a Python program that calculates the Body Mass Index (BMI) for a person based on their weight (in kilograms) and height (in meters).**"
      ],
      "metadata": {
        "id": "XrP42X_rwtRX"
      }
    },
    {
      "cell_type": "code",
      "source": [
        "weight = float(input(\"Enter your weight in kilograms: \"))\n",
        "\n",
        "# Prompt the user to enter their height in meters\n",
        "height = float(input(\"Enter your height in meters: \"))\n",
        "\n",
        "# Calculate the BMI using the provided formula\n",
        "bmi = weight / (height ** 2)\n",
        "\n",
        "# Display the calculated BMI to the user\n",
        "print(f\"Your BMI is: {bmi:.2f}\")\n",
        "\n",
        "# Interpret the BMI according to the given categories\n",
        "\n",
        "if bmi < 18.5:\n",
        "    print(\"You are underweight\")\n",
        "elif 18.5 <= bmi < 25:\n",
        "    print(\"Your weight is normal\")\n",
        "elif 25 <= bmi < 30:\n",
        "    print(\"You are overweight\")\n",
        "else:\n",
        "    print(\"You are obese\")"
      ],
      "metadata": {
        "id": "3WMYji6-ASyo",
        "colab": {
          "base_uri": "https://localhost:8080/"
        },
        "outputId": "a3b9ef21-df85-4ca2-c2d7-6b1681d28d84"
      },
      "execution_count": null,
      "outputs": [
        {
          "output_type": "stream",
          "name": "stdout",
          "text": [
            "Enter your weight in kilograms: 45\n",
            "Enter your height in meters: 1.6\n",
            "Your BMI is: 17.58\n",
            "You are underweight\n"
          ]
        }
      ]
    },
    {
      "cell_type": "markdown",
      "source": [
        "## **6. Write a Python program that prompts the user to input a string. The program should count the frequency of each character in the string and then print the result as a dictionary.**"
      ],
      "metadata": {
        "id": "PH6jZBBBw_KM"
      }
    },
    {
      "cell_type": "code",
      "source": [
        "string = input(\"Enter a string: \")\n",
        "\n",
        "# Create an empty dictionary to store the character frequencies\n",
        "char_freq = {}\n",
        "\n",
        "# Loop through each character in the string\n",
        "for char in string:\n",
        "    # Check if the character is already in the dictionary\n",
        "    if char in char_freq:\n",
        "        # If it is, increment its count by 1\n",
        "        char_freq[char] += 1\n",
        "    else:\n",
        "        # If it isn't, add it to the dictionary with a count of 1\n",
        "        char_freq[char] = 1\n",
        "\n",
        "# Print the resulting dictionary\n",
        "print(char_freq)"
      ],
      "metadata": {
        "id": "loLvUk0HJNPd",
        "colab": {
          "base_uri": "https://localhost:8080/"
        },
        "outputId": "dd745e79-3256-4d01-c524-4b7dccd81497"
      },
      "execution_count": null,
      "outputs": [
        {
          "output_type": "stream",
          "name": "stdout",
          "text": [
            "Enter a string: hello\n",
            "{'h': 1, 'e': 1, 'l': 2, 'o': 1}\n"
          ]
        }
      ]
    },
    {
      "cell_type": "markdown",
      "source": [
        "## **7. Write a Python program that takes a string input from the user and checks if it is a valid email address. If it is valid, print \"Valid email address\", otherwise print \"Invalid email address\".**"
      ],
      "metadata": {
        "id": "iyY8LECTxNcl"
      }
    },
    {
      "cell_type": "code",
      "source": [
        "email = input(\"Enter an email address: \")\n",
        "\n",
        "if \"@\" in email and (email.endswith(\".com\") or email.endswith(\".net\")):\n",
        "    print(\"Valid email address\")\n",
        "else:\n",
        "    print(\"Invalid email address\")"
      ],
      "metadata": {
        "colab": {
          "base_uri": "https://localhost:8080/"
        },
        "id": "iVkTgO15Nx9R",
        "outputId": "14a94b58-c1bc-455a-ef62-69365b41b7a9"
      },
      "execution_count": null,
      "outputs": [
        {
          "output_type": "stream",
          "name": "stdout",
          "text": [
            "Enter an email address: abc@example.com\n",
            "Valid email address\n"
          ]
        }
      ]
    },
    {
      "cell_type": "markdown",
      "source": [
        "## **8. Given a tuple of tuples, write a Python program to print the sum of the elements in each inner tuple.**"
      ],
      "metadata": {
        "id": "5FQkl5wJxdH7"
      }
    },
    {
      "cell_type": "code",
      "source": [
        "tuples = ((1, 2, 3), (4, 5, 6), (7, 8, 9))\n",
        "output = [sum(inner_tuple)for inner_tuple in tuples]\n",
        "print(*output, sep=\",\")"
      ],
      "metadata": {
        "colab": {
          "base_uri": "https://localhost:8080/"
        },
        "id": "8z_9SrDpOBox",
        "outputId": "8da3e29e-7e6b-49e8-9ad9-0ce0737cc192"
      },
      "execution_count": null,
      "outputs": [
        {
          "output_type": "stream",
          "name": "stdout",
          "text": [
            "6,15,24\n"
          ]
        }
      ]
    },
    {
      "cell_type": "markdown",
      "source": [
        "## **9. Create a list containing the 10 numbers . Print the first Three prime numbers from the list.**"
      ],
      "metadata": {
        "id": "DA4V6qwsxj0g"
      }
    },
    {
      "cell_type": "code",
      "source": [
        "numbers = list(range(2, 12))\n",
        "prime_numbers = [num for num in numbers if all(num % i != 0 for i in range(2, int(num ** 0.5) + 1))]\n",
        "\n",
        "print(\"List of the first three prime numbers:\", prime_numbers[:3])"
      ],
      "metadata": {
        "colab": {
          "base_uri": "https://localhost:8080/"
        },
        "id": "dpyUDiHGQmwt",
        "outputId": "3197334a-7440-484b-f9fc-7b70a4bbde69"
      },
      "execution_count": null,
      "outputs": [
        {
          "output_type": "stream",
          "name": "stdout",
          "text": [
            "List of the first three prime numbers: [2, 3, 5]\n"
          ]
        }
      ]
    },
    {
      "cell_type": "markdown",
      "source": [
        "## **10.Given a list of dictionaries representing students' information (name, age, grade), Write a Python program to sort the students based on their grades in descending order and print the sorted list.**"
      ],
      "metadata": {
        "id": "q4IgxWm5xr2m"
      }
    },
    {
      "cell_type": "code",
      "source": [
        "students = [\n",
        "    {\"name\": \"John\", \"age\": 20, \"grade\": 85},\n",
        "    {\"name\": \"Alice\", \"age\": 22, \"grade\": 90},\n",
        "    {\"name\": \"Bob\", \"age\": 21, \"grade\": 80}\n",
        "]\n",
        "\n",
        "sorted_students = sorted(students, key=lambda x: x[\"grade\"], reverse=True)\n",
        "\n",
        "print(\"Sorted students based on grade (descending order):\")\n",
        "for student in sorted_students:\n",
        "    print(f\"{student['name']} - {student['grade']}\")"
      ],
      "metadata": {
        "colab": {
          "base_uri": "https://localhost:8080/"
        },
        "id": "GVxmtWbiZJ9s",
        "outputId": "519ae14d-2051-41e5-acd0-e85f09ba7fde"
      },
      "execution_count": null,
      "outputs": [
        {
          "output_type": "stream",
          "name": "stdout",
          "text": [
            "Sorted students based on grade (descending order):\n",
            "Alice - 90\n",
            "John - 85\n",
            "Bob - 80\n"
          ]
        }
      ]
    },
    {
      "cell_type": "markdown",
      "source": [
        "## **11. Create a program that takes a list of multiple numbers separated with commas (,) from the user and finds the total number of unique values in the list and also prints them.**"
      ],
      "metadata": {
        "id": "LyRTDXBQx2WF"
      }
    },
    {
      "cell_type": "code",
      "source": [
        "def main():\n",
        "    # Get input from the user\n",
        "    input_str = input(\"Enter a list of numbers separated by commas: \")\n",
        "\n",
        "    # Convert the input string to a list of integers\n",
        "    numbers = list(map(int, input_str.split(',')))\n",
        "\n",
        "    # Find the unique values\n",
        "    unique_values = list(set(numbers))\n",
        "\n",
        "    # Print the total number of unique values and the unique values themselves\n",
        "    print(f\"Total number of unique values: {len(unique_values)}\")\n",
        "    print(f\"Unique values in the list: {unique_values}\")\n",
        "\n",
        "if __name__ == \"__main__\":\n",
        "    main()\n"
      ],
      "metadata": {
        "colab": {
          "base_uri": "https://localhost:8080/"
        },
        "id": "2KWXULGEakTf",
        "outputId": "0c3e7ce8-2148-479e-b247-ff92fab144ba"
      },
      "execution_count": null,
      "outputs": [
        {
          "output_type": "stream",
          "name": "stdout",
          "text": [
            "Enter a list of numbers separated by commas: 1, 2, 3, 4, 5, 6\n",
            "Total number of unique values: 6\n",
            "Unique values in the list: [1, 2, 3, 4, 5, 6]\n"
          ]
        }
      ]
    },
    {
      "cell_type": "markdown",
      "source": [
        "## **12.Write a program that takes two lists as input and returns a new list containing elements that are common to both lists.**"
      ],
      "metadata": {
        "id": "KhFFaK6a1F_n"
      }
    },
    {
      "cell_type": "code",
      "source": [
        "list1 = [1, 2, 3, 4, 5]\n",
        "list2 = [4, 5, 6, 7, 8]\n",
        "\n",
        "def find_common_elements(list1, list2):\n",
        "    set1 = set(list1)\n",
        "    set2 = set(list2)\n",
        "\n",
        "    common_elements = list(set1 & set2)\n",
        "\n",
        "    return common_elements\n",
        "\n",
        "common_elements = find_common_elements(list1, list2)\n",
        "print(f\"Common Elements: {common_elements}\")"
      ],
      "metadata": {
        "colab": {
          "base_uri": "https://localhost:8080/"
        },
        "id": "YpG3g16agN_4",
        "outputId": "7c687db7-6c5f-4b36-a976-745e2d988625"
      },
      "execution_count": null,
      "outputs": [
        {
          "output_type": "stream",
          "name": "stdout",
          "text": [
            "Common Elements: [4, 5]\n"
          ]
        }
      ]
    },
    {
      "cell_type": "markdown",
      "source": [
        "## **13.Write a program that takes two dictionaries as input and merges them into a new dictionary. If there are common keys, combine their values.**"
      ],
      "metadata": {
        "id": "wmsyvLNZ1PRo"
      }
    },
    {
      "cell_type": "code",
      "source": [
        "def merge_dictionaries(dict1, dict2):\n",
        "    merged_dict = dict1.copy()\n",
        "\n",
        "    for key, value in dict2.items():\n",
        "        if key in merged_dict:\n",
        "            merged_dict[key] += value\n",
        "        else:\n",
        "            merged_dict[key] = value\n",
        "\n",
        "    return merged_dict\n",
        "dict1 = {'a': 5, 'b': 10, 'c': 15}\n",
        "dict2 = {'b': 20, 'c': 25, 'd': 30}\n",
        "result = merge_dictionaries(dict1, dict2)\n",
        "print(result)"
      ],
      "metadata": {
        "colab": {
          "base_uri": "https://localhost:8080/"
        },
        "id": "a7pDxk0Tgh_W",
        "outputId": "f6af8406-05ca-4954-8f01-9e5dd028b650"
      },
      "execution_count": null,
      "outputs": [
        {
          "output_type": "stream",
          "name": "stdout",
          "text": [
            "{'a': 5, 'b': 30, 'c': 40, 'd': 30}\n"
          ]
        }
      ]
    },
    {
      "cell_type": "markdown",
      "source": [
        "## **14.Write a program that takes two numbers, base and exponent, and calculates the result of raising base to the power of exponent using the ** operator.**"
      ],
      "metadata": {
        "id": "TQsra0Fy155s"
      }
    },
    {
      "cell_type": "code",
      "source": [
        "base = 2\n",
        "exponent = 3\n",
        "\n",
        "def calculate_power(base, exponent):\n",
        "  result = base ** exponent\n",
        "  return result\n",
        "\n",
        "output = calculate_power(base, exponent)\n",
        "\n",
        "print(f\"The result of {base} raised to the power of {exponent} is: {output}\")"
      ],
      "metadata": {
        "colab": {
          "base_uri": "https://localhost:8080/"
        },
        "id": "ntwkPVSmgiII",
        "outputId": "50ab3bf3-871f-4856-c75b-ebafd07000e3"
      },
      "execution_count": null,
      "outputs": [
        {
          "output_type": "stream",
          "name": "stdout",
          "text": [
            "The result of 2 raised to the power of 3 is: 8\n"
          ]
        }
      ]
    },
    {
      "cell_type": "markdown",
      "source": [
        "## **15.Write a program that takes a temperature in Celsius as input and converts it to Fahrenheit using the formula.**"
      ],
      "metadata": {
        "id": "AcP-fqcB1-6B"
      }
    },
    {
      "cell_type": "code",
      "source": [
        "def celsius_to_fahrenheit(celsius):\n",
        "  fahrenheit = (celsius * 9/5)+ 32\n",
        "  return fahrenheit\n",
        "\n",
        "celsius_input = float(input(\"Enter the temperature in Celsius:\"))\n",
        "\n",
        "fahrenheit_output = celsius_to_fahrenheit(celsius_input)\n",
        "\n",
        "print(f\"{celsius_input:.2f}°C is approximately {fahrenheit_output:.2f}°F\")"
      ],
      "metadata": {
        "colab": {
          "base_uri": "https://localhost:8080/"
        },
        "id": "5hIerFVrgxpZ",
        "outputId": "c6039a4e-373e-41e1-e504-7e4fe91a67bb"
      },
      "execution_count": null,
      "outputs": [
        {
          "output_type": "stream",
          "name": "stdout",
          "text": [
            "Enter the temperature in Celsius:23\n",
            "23.00°C is approximately 73.40°F\n"
          ]
        }
      ]
    },
    {
      "cell_type": "markdown",
      "source": [
        "## **16.Write a Python program to reverse a list without using built-in functions.**"
      ],
      "metadata": {
        "id": "ZAaVgdev2EGY"
      }
    },
    {
      "cell_type": "code",
      "source": [
        "def reverse_list(lst):\n",
        "  return lst[::-1]\n",
        "\n",
        "original_list = [1, 2, 3, 4]\n",
        "reversed_list = reverse_list(original_list)\n",
        "\n",
        "print(\"Original list:\", original_list)\n",
        "print(\"Reversed list:\", reversed_list)"
      ],
      "metadata": {
        "colab": {
          "base_uri": "https://localhost:8080/"
        },
        "id": "eNYggXGPg-Pq",
        "outputId": "50d2d044-cef6-4327-ddca-172c53a142fb"
      },
      "execution_count": null,
      "outputs": [
        {
          "output_type": "stream",
          "name": "stdout",
          "text": [
            "Original list: [1, 2, 3, 4]\n",
            "Reversed list: [4, 3, 2, 1]\n"
          ]
        }
      ]
    },
    {
      "cell_type": "markdown",
      "source": [
        "## **17.Given a string \"Hello World\", write a Python program to reverse the string without reversing the individual words.**"
      ],
      "metadata": {
        "id": "pL368_nz2UpE"
      }
    },
    {
      "cell_type": "code",
      "source": [
        "def reverse_text_without_words_reversal(text):\n",
        "    words = text.split()\n",
        "    reversed_text = ' '.join(reversed(words))\n",
        "    return reversed_text\n",
        "\n",
        "input_text = \"Hello World\"\n",
        "\n",
        "# Reverse the text without reversing individual words\n",
        "output_text = reverse_text_without_words_reversal(input_text)\n",
        "\n",
        "output_text"
      ],
      "metadata": {
        "colab": {
          "base_uri": "https://localhost:8080/",
          "height": 35
        },
        "id": "K-B_WXHWg_up",
        "outputId": "39b2168f-359b-480a-e742-7845c472d6d6"
      },
      "execution_count": null,
      "outputs": [
        {
          "output_type": "execute_result",
          "data": {
            "text/plain": [
              "'World Hello'"
            ],
            "application/vnd.google.colaboratory.intrinsic+json": {
              "type": "string"
            }
          },
          "metadata": {},
          "execution_count": 33
        }
      ]
    },
    {
      "cell_type": "markdown",
      "source": [
        "## **18. Implement a Python function is_palindrome() that checks whether a passed string is a palindrome (reads the same forward and backward) and tests it with \"radar\".**"
      ],
      "metadata": {
        "id": "5SaRCKbj2pXU"
      }
    },
    {
      "cell_type": "code",
      "source": [
        "def is_palindrome(s):\n",
        "  s = s.lower().replace('','')\n",
        "  return s == s[::-1]\n",
        "\n",
        "print(is_palindrome(\"radar\"))"
      ],
      "metadata": {
        "colab": {
          "base_uri": "https://localhost:8080/"
        },
        "id": "baoVihDDhGZr",
        "outputId": "7b9c1a4b-ccc3-4d0c-b984-8a0bdea63fdb"
      },
      "execution_count": null,
      "outputs": [
        {
          "output_type": "stream",
          "name": "stdout",
          "text": [
            "True\n"
          ]
        }
      ]
    },
    {
      "cell_type": "markdown",
      "source": [
        "## **19.Write a program that returns a list of even numbers from a given list.**"
      ],
      "metadata": {
        "id": "J6Hqqsgi37I5"
      }
    },
    {
      "cell_type": "code",
      "source": [
        "def get_even_numbers(input_list):\n",
        "  even_numbers = [num for num in input_list if num % 2 == 0]\n",
        "  return even_numbers\n",
        "\n",
        "input_list = [2, 5, 3, 7, 9, 53, 10, 32, 65, 76, 98 ]\n",
        "\n",
        "even_numbers_list = get_even_numbers(input_list)\n",
        "\n",
        "print(\"Even numbers in the list:\", even_numbers_list)"
      ],
      "metadata": {
        "colab": {
          "base_uri": "https://localhost:8080/"
        },
        "id": "_2LvlZMphGkl",
        "outputId": "0e042036-f54f-46e7-ed72-b1bd029392ae"
      },
      "execution_count": null,
      "outputs": [
        {
          "output_type": "stream",
          "name": "stdout",
          "text": [
            "Even numbers in the list: [2, 10, 32, 76, 98]\n"
          ]
        }
      ]
    },
    {
      "cell_type": "markdown",
      "source": [
        "## **20.Given two lists keys = ['a', 'b', 'c'] and values = [1, 2, 3], write a Python program to create a dictionary from these lists.**"
      ],
      "metadata": {
        "id": "kIRtcc5i4Dyr"
      }
    },
    {
      "cell_type": "code",
      "source": [
        "keys = ['a' , 'b', 'c']\n",
        "values = [1, 2, 3]\n",
        "\n",
        "my_dict = dict(zip(keys, values))\n",
        "\n",
        "print(my_dict)"
      ],
      "metadata": {
        "colab": {
          "base_uri": "https://localhost:8080/"
        },
        "id": "sO3_aG-7hN54",
        "outputId": "403ca6b8-0ea8-4da3-a62b-5e9564cde6c1"
      },
      "execution_count": null,
      "outputs": [
        {
          "output_type": "stream",
          "name": "stdout",
          "text": [
            "{'a': 1, 'b': 2, 'c': 3}\n"
          ]
        }
      ]
    }
  ]
}